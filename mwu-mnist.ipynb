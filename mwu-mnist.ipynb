{
 "cells": [
  {
   "cell_type": "code",
   "execution_count": 1,
   "metadata": {
    "ExecuteTime": {
     "end_time": "2018-10-04T19:13:25.086553Z",
     "start_time": "2018-10-04T19:13:25.082128Z"
    }
   },
   "outputs": [],
   "source": [
    "from collections import defaultdict\n",
    "import csv\n",
    "import math\n",
    "import os.path\n",
    "import urllib.request\n",
    "\n",
    "import numpy as np\n",
    "import matplotlib.pyplot as plt\n",
    "from IPython.display import clear_output\n",
    "\n",
    "plt.rcParams['figure.figsize'] = [12, 6]"
   ]
  },
  {
   "cell_type": "code",
   "execution_count": 2,
   "metadata": {
    "ExecuteTime": {
     "end_time": "2018-10-04T19:13:27.713385Z",
     "start_time": "2018-10-04T19:13:27.659709Z"
    }
   },
   "outputs": [],
   "source": [
    "def mwu(expert_classification_list, correct_values_list, e=None):\n",
    "    \"\"\"\n",
    "        expert_classification: List of classification list for each expert\n",
    "        e_param: Param e in MWU formula  \n",
    "        \n",
    "        Returns: list of p for each expert \n",
    "    \"\"\"\n",
    "    loss = [0]\n",
    "    m = len(expert_classification_list)  # number of experts\n",
    "    T = len(expert_classification_list[0])  # total steps\n",
    "    print(f\"m = {m}\")\n",
    "    print(f\"T = {T}\")\n",
    "    if e is None:  # use default\n",
    "        e = math.sqrt(math.log(m) / T) \n",
    "    w = [1 for _ in range(m)]  # initial weights\n",
    "    p = [1 / w[i] for i in range(m)]  # initial probabilities\n",
    "    \n",
    "    for t in range(T):\n",
    "        # If wants to choose an expert to follow\n",
    "        # expert_choosed = np.random.choice([i for i in range(T)], 1, p=p)[0]\n",
    "        expert_losses = [1 if expert_classification_list[i][t] != correct_values_list[t] \n",
    "                         else 0 \n",
    "                         for i in range(m)]\n",
    "        current_loss = sum([expert_losses[i] * p[i] \n",
    "                            for i in range(m)])\n",
    "        loss.append(loss[t] + current_loss)\n",
    "        \n",
    "        for i in range(m):\n",
    "            w[i] = w[i] * math.e ** (-e * expert_losses[i])\n",
    "        \n",
    "        sum_weights = sum(w)\n",
    "        for i in range(m):\n",
    "            p[i] = w[i] / sum_weights\n",
    "            \n",
    "        yield (p, loss)        "
   ]
  },
  {
   "cell_type": "code",
   "execution_count": 3,
   "metadata": {
    "ExecuteTime": {
     "end_time": "2018-10-04T19:05:13.152813Z",
     "start_time": "2018-10-04T19:04:59.924140Z"
    }
   },
   "outputs": [
    {
     "name": "stdout",
     "output_type": "stream",
     "text": [
      "parsing files...\n",
      "finish\n"
     ]
    }
   ],
   "source": [
    "# Open Mnist data\n",
    "# https://pjreddie.com/projects/mnist-in-csv/\n",
    "# Image shape = (28 x 28)\n",
    "file_url = 'https://pjreddie.com/media/files/'\n",
    "\n",
    "test_data = 'mnist_test.csv'\n",
    "train_data = 'mnist_train.csv'\n",
    "\n",
    "# download file if not exists:\n",
    "for file_name in [test_data, train_data]:\n",
    "    if not os.path.isfile(file_name):\n",
    "        print(f\"downloading {file_name}...\")\n",
    "        urllib.request.urlretrieve(file_url + file_name, file_name) \n",
    "\n",
    "train_X = []\n",
    "train_Y = []\n",
    "test_X = []\n",
    "test_Y = []\n",
    "\n",
    "# extract only zero and ones\n",
    "allowed_numbers = [0, 1]\n",
    "\n",
    "print(\"parsing files...\")\n",
    "with open(train_data) as csv_file:\n",
    "    csv_reader = csv.reader(csv_file, delimiter=',')\n",
    "    for row in csv_reader:\n",
    "        int_row = [int(value) for value in row]\n",
    "        if int_row[0] in allowed_numbers:\n",
    "            train_X.append(int_row[1:])\n",
    "            train_Y.append(int_row[0])\n",
    "            \n",
    "with open(test_data) as csv_file:\n",
    "    csv_reader = csv.reader(csv_file, delimiter=',')\n",
    "    for row in csv_reader:\n",
    "        int_row = [int(value) for value in row]\n",
    "        if int_row[0] in allowed_numbers:\n",
    "            test_X.append(int_row[1:])\n",
    "            test_Y.append(int_row[0])\n",
    "\n",
    "print('finish')"
   ]
  },
  {
   "cell_type": "code",
   "execution_count": 4,
   "metadata": {
    "ExecuteTime": {
     "end_time": "2018-10-04T19:15:04.878974Z",
     "start_time": "2018-10-04T19:15:04.872569Z"
    }
   },
   "outputs": [],
   "source": [
    "# define weak classifiers\n",
    "# the classifier for the pixel_i is a classifier f(x) where \n",
    "# f(x) = digit_1 if x <= K and f(x) is digit_2 otherwise  \n",
    "classifier_list = []\n",
    "for i in range(28 * 28):\n",
    "    count_first_class_times = defaultdict(int)\n",
    "    count_second_class_times = defaultdict(int)\n",
    "    for j in range(len(train_Y)):\n",
    "        if train_Y[j] == allowed_numbers[0]:\n",
    "            count_first_class_times[train_X[j][i]] += 1\n",
    "        else:\n",
    "            count_second_class_times[train_X[j][i]] += 1\n",
    "    diffs = [count_second_class_times[k] - count_first_class_times[k] for k in range(255)]\n",
    "    sum_diffs = []\n",
    "    \n",
    "    for j in range(255):\n",
    "        if j == 0:\n",
    "            sum_diffs.append(diffs[0])\n",
    "        else:\n",
    "            sum_diffs.append(diffs[j] + sum_diffs[j-1])\n",
    "    \n",
    "    max_deviation = max([abs(sum_diff) for sum_diff in sum_diffs])\n",
    "    for pixel_level in range(255):\n",
    "        if abs(sum_diffs[pixel_level]) == max_deviation:\n",
    "            classifier_list.append((pixel_level,\n",
    "                                    (False if sum_diffs[pixel_level] > 0\n",
    "                                     else True)))\n",
    "            break"
   ]
  },
  {
   "cell_type": "code",
   "execution_count": 5,
   "metadata": {
    "ExecuteTime": {
     "end_time": "2018-10-04T19:15:11.137692Z",
     "start_time": "2018-10-04T19:15:11.125913Z"
    }
   },
   "outputs": [],
   "source": [
    "# get the expert classification list\n",
    "expert_classification_list = []\n",
    "\n",
    "for classifier_index in range(len(classifier_list)):\n",
    "    classifier_treshold, is_first_digit_flag = classifier_list[classifier_index]\n",
    "    expert_classifications = []\n",
    "    for train_x in train_X:\n",
    "        if train_x[classifier_index] <= classifier_treshold:\n",
    "            if is_first_digit_flag: \n",
    "                expert_classifications.append(allowed_numbers[0])\n",
    "            else:\n",
    "                expert_classifications.append(allowed_numbers[1])\n",
    "        else:\n",
    "            if is_first_digit_flag: \n",
    "                expert_classifications.append(allowed_numbers[1])\n",
    "            else:\n",
    "                expert_classifications.append(allowed_numbers[0])\n",
    "    expert_classification_list.append(expert_classifications)"
   ]
  },
  {
   "cell_type": "code",
   "execution_count": 6,
   "metadata": {},
   "outputs": [],
   "source": [
    "def classify_by_experts(p, digit_x):\n",
    "    total_p_first_digit = 0\n",
    "    total_p_second_digit = 0\n",
    "    for classifier_index in range(len(classifier_list)):\n",
    "        classifier_treshold, is_first_digit_flag = classifier_list[classifier_index]\n",
    "        expert_classifications = []\n",
    "        if digit_x[classifier_index] <= classifier_treshold:\n",
    "            if is_first_digit_flag: \n",
    "                total_p_first_digit += p[classifier_index]\n",
    "            else:\n",
    "                total_p_second_digit += p[classifier_index]\n",
    "        else:\n",
    "            if is_first_digit_flag: \n",
    "                total_p_second_digit += p[classifier_index]\n",
    "            else:\n",
    "                total_p_first_digit += p[classifier_index]\n",
    "    if total_p_first_digit >= total_p_second_digit:\n",
    "        return allowed_numbers[0]\n",
    "    return allowed_numbers[1] \n",
    "\n",
    "def get_error(p):\n",
    "    errors = 0\n",
    "    total = 0\n",
    "    for i in range(len(test_X)):\n",
    "        if classify_by_experts(p, test_X[i]) != test_Y[i]:\n",
    "            errors += 1\n",
    "        total += 1\n",
    "    return errors / total"
   ]
  },
  {
   "cell_type": "code",
   "execution_count": 7,
   "metadata": {},
   "outputs": [
    {
     "name": "stdout",
     "output_type": "stream",
     "text": [
      "Step 12664/12665. Error = 0.009456264775413711\n"
     ]
    }
   ],
   "source": [
    "error_list = []\n",
    "ps = []\n",
    "step = 0\n",
    "total_steps = len(train_Y)\n",
    "for (p, loss) in mwu(expert_classification_list, train_Y):\n",
    "    ps.append(p.copy())\n",
    "    error = get_error(p)\n",
    "    error_list.append(error)\n",
    "    clear_output(wait=True)\n",
    "    print(f\"Step {step}/{total_steps}. Error = {error}\")\n",
    "    step += 1"
   ]
  },
  {
   "cell_type": "code",
   "execution_count": null,
   "metadata": {},
   "outputs": [],
   "source": [
    "# print the loss through the time\n",
    "plt.xlabel('T')\n",
    "plt.ylabel('loss')\n",
    "plt.plot(loss)"
   ]
  },
  {
   "cell_type": "code",
   "execution_count": null,
   "metadata": {},
   "outputs": [],
   "source": [
    "# print the loss through the time\n",
    "plt.xlabel('T')\n",
    "plt.ylabel('error')\n",
    "plt.plot(error_list)"
   ]
  },
  {
   "cell_type": "code",
   "execution_count": null,
   "metadata": {},
   "outputs": [],
   "source": [
    "# find p with minimum error\n",
    "min_error = min(error_list)\n",
    "for i in range(len(error_list)):\n",
    "    if error_list[i] == min_error:\n",
    "        p = ps[i]\n",
    "        break\n",
    "\n",
    "p_matrix = np.reshape(np.array(p), (28 , 28))"
   ]
  },
  {
   "cell_type": "code",
   "execution_count": null,
   "metadata": {},
   "outputs": [],
   "source": [
    "# plot most important pixels for classify\n",
    "plt.imshow(p_matrix, cmap='gray')\n",
    "plt.show()"
   ]
  }
 ],
 "metadata": {
  "kernelspec": {
   "display_name": "Python 3",
   "language": "python",
   "name": "python3"
  },
  "language_info": {
   "codemirror_mode": {
    "name": "ipython",
    "version": 3
   },
   "file_extension": ".py",
   "mimetype": "text/x-python",
   "name": "python",
   "nbconvert_exporter": "python",
   "pygments_lexer": "ipython3",
   "version": "3.6.6"
  }
 },
 "nbformat": 4,
 "nbformat_minor": 2
}
