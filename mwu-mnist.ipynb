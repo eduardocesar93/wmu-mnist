{
 "cells": [
  {
   "cell_type": "code",
   "execution_count": 2,
   "metadata": {
    "ExecuteTime": {
     "end_time": "2018-10-04T17:43:26.290491Z",
     "start_time": "2018-10-04T17:43:25.976981Z"
    }
   },
   "outputs": [],
   "source": [
    "import csv\n",
    "import math\n",
    "import os.path\n",
    "import urllib.request\n",
    "\n",
    "import numpy as np"
   ]
  },
  {
   "cell_type": "code",
   "execution_count": 3,
   "metadata": {
    "ExecuteTime": {
     "end_time": "2018-10-04T17:43:26.831435Z",
     "start_time": "2018-10-04T17:43:26.822197Z"
    }
   },
   "outputs": [],
   "source": [
    "def mwu(expert_classification_list, correct_values_list, e=None):\n",
    "    \"\"\"\n",
    "        expert_classification: List of classification list for each expert\n",
    "        e_param: Param e in MWU formula  \n",
    "        \n",
    "        Returns: list of p for each expert \n",
    "    \"\"\"\n",
    "    loss = [0]\n",
    "    m = len(expert_classification_list)  # number of experts\n",
    "    T = len(expert_classification_list[0])  # total steps\n",
    "    if e is None:  # use default\n",
    "        e = math.sqrt(math.log(m) / T) \n",
    "    w = [1 for _ in range(m)]  # initial weights\n",
    "    p = [1 / w[i] for i in range(m)]  # initial probabilities\n",
    "    \n",
    "    for t in range(T):\n",
    "        # If wants to choose an expert to follow\n",
    "        # expert_choosed = np.random.choice([i for i in range(T)], 1, p=p)[0]\n",
    "        expert_losses = [1 if expert_classification_list[i][t] != correct_values_list[t] \n",
    "                         else 0 \n",
    "                         for i in m]\n",
    "        current_loss = sum([expert_losses[i] * p[i] \n",
    "                            for i in range(T)])\n",
    "        loss.append(loss[t] + current_loss)\n",
    "        \n",
    "        for i in range(m):\n",
    "            w[i] = w[i] * math.e ** (-e * expert_losses[i])\n",
    "        \n",
    "        sum_weights = sum(w)\n",
    "        for i in range(m):\n",
    "            p[i] = w[i] / sum_weights\n",
    "            \n",
    "    return p, loss        "
   ]
  },
  {
   "cell_type": "code",
   "execution_count": 5,
   "metadata": {
    "ExecuteTime": {
     "end_time": "2018-10-04T18:16:39.742661Z",
     "start_time": "2018-10-04T18:16:27.423624Z"
    }
   },
   "outputs": [
    {
     "name": "stdout",
     "output_type": "stream",
     "text": [
      "parsing files...\n"
     ]
    }
   ],
   "source": [
    "# Open Mnist data\n",
    "# https://pjreddie.com/projects/mnist-in-csv/\n",
    "\n",
    "file_url = 'https://pjreddie.com/media/files/'\n",
    "\n",
    "test_data = 'mnist_test.csv'\n",
    "train_data = 'mnist_train.csv'\n",
    "\n",
    "# download file if not exists:\n",
    "for file_name in [test_data, train_data]:\n",
    "    if not os.path.isfile(file_name):\n",
    "        print(f\"downloading {file_name}...\")\n",
    "        urllib.request.urlretrieve(file_url + file_name, file_name) \n",
    "\n",
    "train_X = []\n",
    "train_Y = []\n",
    "test_X = []\n",
    "test_Y = []\n",
    "\n",
    "#extract only zero and ones\n",
    "allowed_numbers = [0, 1]\n",
    "\n",
    "print(\"parsing files...\")\n",
    "with open(train_data) as csv_file:\n",
    "    csv_reader = csv.reader(csv_file, delimiter=',')\n",
    "    for row in csv_reader:\n",
    "        int_row = [int(value) for value in row]\n",
    "        if int_row[0] in allowed_numbers:\n",
    "            train_X.append(int_row[1:])\n",
    "            train_Y.append(int_row[0])\n",
    "            \n",
    "with open(test_data) as csv_file:\n",
    "    csv_reader = csv.reader(csv_file, delimiter=',')\n",
    "    for row in csv_reader:\n",
    "        int_row = [int(value) for value in row]\n",
    "        if int_row[0] in allowed_numbers:\n",
    "            test_X.append(int_row[1:])\n",
    "            test_Y.append(int_row[0])\n",
    "print('finish')"
   ]
  }
 ],
 "metadata": {
  "kernelspec": {
   "display_name": "Python 3",
   "language": "python",
   "name": "python3"
  },
  "language_info": {
   "codemirror_mode": {
    "name": "ipython",
    "version": 3
   },
   "file_extension": ".py",
   "mimetype": "text/x-python",
   "name": "python",
   "nbconvert_exporter": "python",
   "pygments_lexer": "ipython3",
   "version": "3.6.6"
  }
 },
 "nbformat": 4,
 "nbformat_minor": 2
}
